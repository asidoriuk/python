{
 "cells": [
  {
   "cell_type": "code",
   "execution_count": 1,
   "metadata": {},
   "outputs": [
    {
     "name": "stdout",
     "output_type": "stream",
     "text": [
      "2.3000000000000003\n",
      "2.12346\n",
      "2.2\n",
      "3.0\n"
     ]
    }
   ],
   "source": [
    "__author__ = 'Алексей Сидорюк'\n",
    "\n",
    "# Задание-1:\n",
    "# Напишите функцию, округляющую полученное произвольное десятичное число\n",
    "# до кол-ва знаков (кол-во знаков передается вторым аргументом).\n",
    "# Округление должно происходить по математическим правилам (0.6 --> 1, 0.4 --> 0).\n",
    "# Для решения задачи не используйте встроенные функции и функции из модуля math.\n",
    "\n",
    "def my_round(number, ndigits):\n",
    "#    if str(number).count('.') == 1:\n",
    "        if str(number).replace('.', '0').isnumeric() & str(ndigits).isdigit():\n",
    "            if int(str(number)[str(number).find('.') + ndigits + 1]) >= 5:\n",
    "                return number//.1**ndigits/10**ndigits + .1**ndigits\n",
    "            else:\n",
    "                return number//.1**ndigits/10**ndigits\n",
    "        else:\n",
    "            print('Некорректные параметры')\n",
    "\n",
    "print(my_round(2.29831209, 1))\n",
    "print(my_round(2.1234567, 5))\n",
    "print(my_round(2.1999967, 5))\n",
    "print(my_round(2.9999967, 5))"
   ]
  },
  {
   "cell_type": "code",
   "execution_count": 2,
   "metadata": {},
   "outputs": [
    {
     "name": "stdout",
     "output_type": "stream",
     "text": [
      "True\n",
      "12321\n",
      "True\n",
      "1234.6\n"
     ]
    }
   ],
   "source": [
    "# Задание-2:\n",
    "# Дан шестизначный номер билета. Определить, является ли билет счастливым.\n",
    "# Решение реализовать в виде функции.\n",
    "# Билет считается счастливым, если сумма его первых и последних цифр равны.\n",
    "# !!!P.S.: функция не должна НИЧЕГО print'ить\n",
    "\n",
    "def lucky_ticket(ticket_number):\n",
    "    if (len(str(ticket_number)) == 6) & str(ticket_number).isdigit():\n",
    "        if sum(map(int, tuple(str(ticket_number)[:3]))) == sum(map(int, tuple(str(ticket_number)[-3:]))):\n",
    "            return True\n",
    "        else:\n",
    "            return False\n",
    "    else:\n",
    "        return ticket_number\n",
    "\n",
    "print(lucky_ticket(123006))\n",
    "print(lucky_ticket(12321))\n",
    "print(lucky_ticket(436751))\n",
    "print(lucky_ticket(1234.6))"
   ]
  }
 ],
 "metadata": {
  "kernelspec": {
   "display_name": "Python 3",
   "language": "python",
   "name": "python3"
  },
  "language_info": {
   "codemirror_mode": {
    "name": "ipython",
    "version": 3
   },
   "file_extension": ".py",
   "mimetype": "text/x-python",
   "name": "python",
   "nbconvert_exporter": "python",
   "pygments_lexer": "ipython3",
   "version": "3.7.0"
  }
 },
 "nbformat": 4,
 "nbformat_minor": 2
}
