{
 "cells": [
  {
   "cell_type": "code",
   "execution_count": 1,
   "metadata": {},
   "outputs": [
    {
     "name": "stdout",
     "output_type": "stream",
     "text": [
      "[55, 89, 144, 233, 377, 610]\n",
      "[55, 89, 144, 233, 377, 610]\n",
      "[55, 89, 144, 233, 377, 610, 987, 1597, 2584, 4181, 6765, 10946, 17711, 28657, 46368, 75025]\n"
     ]
    }
   ],
   "source": [
    "__author__ = 'Алексей Сидорюк'\n",
    "\n",
    "# Задание-1:\n",
    "# Напишите функцию, возвращающую ряд Фибоначчи с n-элемента до m-элемента.\n",
    "# Первыми элементами ряда считать цифры 1 1\n",
    "\n",
    "#1. Заданная часть последовательности, номер числа в последовательности m должен быть больше n\n",
    "def fibonacci(n, m):\n",
    "    if m > n:\n",
    "        # F(n-1)\n",
    "        fn_1 = 1\n",
    "        # F(n)\n",
    "        fn = 1\n",
    "        for i in range(2, n + 1):\n",
    "            fn = fn + fn_1\n",
    "            fn_1 = fn - fn_1\n",
    "\n",
    "        list_fn = [fn_1, fn]\n",
    "        for j in range(1, m-n):\n",
    "            list_fn.append(list_fn[-2] + list_fn[-1])\n",
    "        return list_fn\n",
    "    else:\n",
    "        print('Предполагается, что номер последнего числа Фибоначчи больше начального','\\n')\n",
    "\n",
    "print(fibonacci(10, 15), end='\\n')\n",
    "\n",
    "#2. m-ное число Фибоначчи, начиная с заданного n-ного\n",
    "def fibonacci(n, m):\n",
    "    # F(n-1)\n",
    "    fn_1 = 1\n",
    "    # F(n)\n",
    "    fn = 1\n",
    "    for i in range(2, n + 1):\n",
    "        fn = fn + fn_1\n",
    "        fn_1 = fn - fn_1\n",
    "\n",
    "    list_fn = [fn_1, fn]\n",
    "    for j in range(1, m):\n",
    "        list_fn.append(list_fn[-2] + list_fn[-1])\n",
    "    return list_fn\n",
    "\n",
    "print(fibonacci(10, 5), end='\\n')\n",
    "print(fibonacci(10, 15), end='\\n')"
   ]
  },
  {
   "cell_type": "code",
   "execution_count": 1,
   "metadata": {},
   "outputs": [
    {
     "name": "stdout",
     "output_type": "stream",
     "text": [
      "[-12, -11, 0, 2, 2.5, 4, 4, 10, 20]\n"
     ]
    }
   ],
   "source": [
    "# Задача-2:\n",
    "# Напишите функцию, сортирующую принимаемый список по возрастанию.\n",
    "# Для сортировки используйте любой алгоритм (например пузырьковый).\n",
    "# Для решения данной задачи нельзя использовать встроенную функцию и метод sort()\n",
    "\n",
    "\n",
    "def sort_to_max(origin_list):\n",
    "    s = 0\n",
    "    for i in range(0, len(origin_list)):\n",
    "        for j in range(0, len(origin_list) - i - 1):\n",
    "            if origin_list[j] > origin_list[j + 1]:\n",
    "                s = origin_list[j + 1]\n",
    "                origin_list[j + 1] = origin_list[j]\n",
    "                origin_list[j] = s\n",
    "    return origin_list\n",
    "\n",
    "print(sort_to_max([2, 10, -12, 2.5, 20, -11, 4, 4, 0]))"
   ]
  }
 ],
 "metadata": {
  "kernelspec": {
   "display_name": "Python 3",
   "language": "python",
   "name": "python3"
  },
  "language_info": {
   "codemirror_mode": {
    "name": "ipython",
    "version": 3
   },
   "file_extension": ".py",
   "mimetype": "text/x-python",
   "name": "python",
   "nbconvert_exporter": "python",
   "pygments_lexer": "ipython3",
   "version": "3.7.0"
  }
 },
 "nbformat": 4,
 "nbformat_minor": 2
}
