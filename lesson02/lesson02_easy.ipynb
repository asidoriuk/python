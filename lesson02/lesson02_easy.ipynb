{
 "cells": [
  {
   "cell_type": "code",
   "execution_count": 9,
   "metadata": {},
   "outputs": [
    {
     "name": "stdout",
     "output_type": "stream",
     "text": [
      "1     яблоко\n",
      "2      банан\n",
      "3       киви\n",
      "4      арбуз\n"
     ]
    }
   ],
   "source": [
    "__author__ = 'Алексей Сидорюк'\n",
    "\n",
    "# Задача-1:\n",
    "# Дан список фруктов.\n",
    "# Напишите программу, выводящую фрукты в виде нумерованного списка,\n",
    "# выровненного по правой стороне.\n",
    "\n",
    "# Пример:\n",
    "# Дано: [\"яблоко\", \"банан\", \"киви\", \"арбуз\"]\n",
    "# Вывод:\n",
    "# 1. яблоко\n",
    "# 2.  банан\n",
    "# 3.   киви\n",
    "# 4.  арбуз\n",
    "\n",
    "# Подсказка: воспользоваться методом .format()\n",
    "\n",
    "fruits = [\"яблоко\", \"банан\", \"киви\", \"арбуз\"]\n",
    "for i, fruit in enumerate(fruits):\n",
    "    print(i+1, '{:>10}'.format(fruit))"
   ]
  },
  {
   "cell_type": "code",
   "execution_count": 127,
   "metadata": {},
   "outputs": [
    {
     "name": "stdout",
     "output_type": "stream",
     "text": [
      "[1, 2, 4]\n",
      "[3, 4]\n",
      "[3, 4]\n"
     ]
    }
   ],
   "source": [
    "# Задача-2:\n",
    "# Даны два произвольные списка.\n",
    "# Удалите из первого списка элементы, присутствующие во втором списке.\n",
    "\n",
    "#1.\n",
    "list1 = [1, 2, 2, 3, 4]\n",
    "list2 = [1, 2, 5]\n",
    "for i in list2:\n",
    "    if i in list1:\n",
    "        list1.pop(i)\n",
    "#        del list1[list1.index(i)]\n",
    "print(list1)\n",
    "\n",
    "#2. Удалиение дубликатов через создание нового списка\n",
    "list1 = [1, 2, 2, 3, 4]\n",
    "list2 = [1, 2, 5]\n",
    "list_res = []\n",
    "for i in list1:\n",
    "    if i in list2:\n",
    "        pass\n",
    "    else:\n",
    "        list_res.append(i)\n",
    "print(list_res)\n",
    "\n",
    "#3.\n",
    "list1 = [1, 2, 2, 3, 4]\n",
    "list2 = [1, 2, 5]\n",
    "list1 = list(set(list1)-set(list2))\n",
    "print(list1)"
   ]
  },
  {
   "cell_type": "code",
   "execution_count": 129,
   "metadata": {},
   "outputs": [
    {
     "name": "stdout",
     "output_type": "stream",
     "text": [
      "[2, 0.5, 0.5, 6, 1.0]\n"
     ]
    }
   ],
   "source": [
    "# Задача-3:\n",
    "# Дан произвольный список из целых чисел.\n",
    "# Получите НОВЫЙ список из элементов исходного, выполнив следующие условия:\n",
    "# если элемент кратен двум, то разделить его на 4, если не кратен, то умножить на два.\n",
    "\n",
    "list1 = [1, 2, 2, 3, 4]\n",
    "print([x / 4 if x % 2 == 0 else x*2 for x in list1])\n",
    "\n",
    "#if type('') is int:\n",
    "#    print(1)"
   ]
  }
 ],
 "metadata": {
  "kernelspec": {
   "display_name": "Python 3",
   "language": "python",
   "name": "python3"
  },
  "language_info": {
   "codemirror_mode": {
    "name": "ipython",
    "version": 3
   },
   "file_extension": ".py",
   "mimetype": "text/x-python",
   "name": "python",
   "nbconvert_exporter": "python",
   "pygments_lexer": "ipython3",
   "version": "3.7.0"
  }
 },
 "nbformat": 4,
 "nbformat_minor": 2
}
