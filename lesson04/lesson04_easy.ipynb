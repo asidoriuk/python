{
 "cells": [
  {
   "cell_type": "code",
   "execution_count": 1,
   "metadata": {},
   "outputs": [
    {
     "name": "stdout",
     "output_type": "stream",
     "text": [
      "[144, 121, 0, 4, 6.25, 16, 16, 100, 400]\n"
     ]
    }
   ],
   "source": [
    "__author__ = 'Алексей Сидорюк'\n",
    "\n",
    "# Все задачи текущего блока решите с помощью генераторов списков!\n",
    "\n",
    "# Задание-1:\n",
    "# Дан список, заполненный произвольными целыми числами. \n",
    "# Получить новый список, элементы которого будут\n",
    "# квадратами элементов исходного списка\n",
    "# [1, 2, 4, 0] --> [1, 4, 16, 0]\n",
    "\n",
    "my_list = [-12, -11, 0, 2, 2.5, 4, 4, 10, 20]\n",
    "my_list_sqrt = [el*el for el in my_list]\n",
    "print(my_list_sqrt)"
   ]
  },
  {
   "cell_type": "code",
   "execution_count": 13,
   "metadata": {},
   "outputs": [
    {
     "name": "stdout",
     "output_type": "stream",
     "text": [
      "['Луло', 'Перец']\n"
     ]
    }
   ],
   "source": [
    "# Задание-2:\n",
    "# Даны два списка фруктов.\n",
    "# Получить список фруктов, присутствующих в обоих исходных списках.\n",
    "\n",
    "lf1 = ['Алыча','Груша','Квини','Луло','Малуко','Перец','Яблоко']\n",
    "lf2 = ['Апельсин','Большой змеиный фрукт','Гранат','Луло','Маболо','Огурец','Перец']\n",
    "lfc = [el1 for el1 in lf1 for el2 in lf2 if (el1 == el2)]\n",
    "print(lfc)"
   ]
  },
  {
   "cell_type": "code",
   "execution_count": 9,
   "metadata": {},
   "outputs": [
    {
     "name": "stdout",
     "output_type": "stream",
     "text": [
      "[9, 15]\n"
     ]
    }
   ],
   "source": [
    "# Задание-3:\n",
    "# Дан список, заполненный произвольными числами.\n",
    "# Получить список из элементов исходного, удовлетворяющих следующим условиям:\n",
    "# + Элемент кратен 3\n",
    "# + Элемент положительный\n",
    "# + Элемент не кратен 4\n",
    "\n",
    "my_list = [-12, -11, 0, 2, 9, 44, 15, -3, 60]\n",
    "my_list_cond = [el for el in my_list if (el % 3 == 0) & (el > 0) & (el % 4 != 0)]\n",
    "print(my_list_cond)"
   ]
  }
 ],
 "metadata": {
  "kernelspec": {
   "display_name": "Python 3",
   "language": "python",
   "name": "python3"
  },
  "language_info": {
   "codemirror_mode": {
    "name": "ipython",
    "version": 3
   },
   "file_extension": ".py",
   "mimetype": "text/x-python",
   "name": "python",
   "nbconvert_exporter": "python",
   "pygments_lexer": "ipython3",
   "version": "3.7.0"
  }
 },
 "nbformat": 4,
 "nbformat_minor": 2
}
